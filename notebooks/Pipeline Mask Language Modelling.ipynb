{
 "cells": [
  {
   "cell_type": "code",
   "execution_count": 1,
   "id": "e24552be-14da-4b05-8140-e007675e2c2c",
   "metadata": {},
   "outputs": [
    {
     "name": "stdout",
     "output_type": "stream",
     "text": [
      "--2024-03-06 10:43:37--  https://lazyprogrammer.me/course_files/nlp/bbc_text_cls.csv\n",
      "Resolving lazyprogrammer.me (lazyprogrammer.me)... 2606:4700:3031::6815:17d2, 2606:4700:3030::ac43:d5a6, 104.21.23.210, ...\n",
      "Connecting to lazyprogrammer.me (lazyprogrammer.me)|2606:4700:3031::6815:17d2|:443... connected.\n",
      "HTTP request sent, awaiting response... 200 OK\n",
      "Length: 5085081 (4,8M) [text/csv]\n",
      "Saving to: ‘bbc_text_cls.csv’\n",
      "\n",
      "bbc_text_cls.csv    100%[===================>]   4,85M  4,55MB/s    in 1,1s    \n",
      "\n",
      "2024-03-06 10:43:39 (4,55 MB/s) - ‘bbc_text_cls.csv’ saved [5085081/5085081]\n",
      "\n"
     ]
    }
   ],
   "source": [
    "!wget -nc https://lazyprogrammer.me/course_files/nlp/bbc_text_cls.csv"
   ]
  },
  {
   "cell_type": "code",
   "execution_count": 2,
   "id": "240d5e9a-0a78-4e73-ae53-76d890e7cc03",
   "metadata": {},
   "outputs": [],
   "source": [
    "import numpy as np\n",
    "import pandas as pd\n",
    "import textwrap\n",
    "from pprint import pprint\n",
    "\n",
    "from transformers import pipeline"
   ]
  },
  {
   "cell_type": "code",
   "execution_count": 3,
   "id": "42be4c32-c994-4f99-8e54-7077832e452f",
   "metadata": {},
   "outputs": [],
   "source": [
    "df = pd.read_csv('bbc_text_cls.csv')"
   ]
  },
  {
   "cell_type": "code",
   "execution_count": 4,
   "id": "cd152280-c6b9-4418-b549-497d0679e3d0",
   "metadata": {},
   "outputs": [
    {
     "data": {
      "text/html": [
       "<div>\n",
       "<style scoped>\n",
       "    .dataframe tbody tr th:only-of-type {\n",
       "        vertical-align: middle;\n",
       "    }\n",
       "\n",
       "    .dataframe tbody tr th {\n",
       "        vertical-align: top;\n",
       "    }\n",
       "\n",
       "    .dataframe thead th {\n",
       "        text-align: right;\n",
       "    }\n",
       "</style>\n",
       "<table border=\"1\" class=\"dataframe\">\n",
       "  <thead>\n",
       "    <tr style=\"text-align: right;\">\n",
       "      <th></th>\n",
       "      <th>text</th>\n",
       "      <th>labels</th>\n",
       "    </tr>\n",
       "  </thead>\n",
       "  <tbody>\n",
       "    <tr>\n",
       "      <th>0</th>\n",
       "      <td>Ad sales boost Time Warner profit\\n\\nQuarterly...</td>\n",
       "      <td>business</td>\n",
       "    </tr>\n",
       "    <tr>\n",
       "      <th>1</th>\n",
       "      <td>Dollar gains on Greenspan speech\\n\\nThe dollar...</td>\n",
       "      <td>business</td>\n",
       "    </tr>\n",
       "    <tr>\n",
       "      <th>2</th>\n",
       "      <td>Yukos unit buyer faces loan claim\\n\\nThe owner...</td>\n",
       "      <td>business</td>\n",
       "    </tr>\n",
       "    <tr>\n",
       "      <th>3</th>\n",
       "      <td>High fuel prices hit BA's profits\\n\\nBritish A...</td>\n",
       "      <td>business</td>\n",
       "    </tr>\n",
       "    <tr>\n",
       "      <th>4</th>\n",
       "      <td>Pernod takeover talk lifts Domecq\\n\\nShares in...</td>\n",
       "      <td>business</td>\n",
       "    </tr>\n",
       "  </tbody>\n",
       "</table>\n",
       "</div>"
      ],
      "text/plain": [
       "                                                text    labels\n",
       "0  Ad sales boost Time Warner profit\\n\\nQuarterly...  business\n",
       "1  Dollar gains on Greenspan speech\\n\\nThe dollar...  business\n",
       "2  Yukos unit buyer faces loan claim\\n\\nThe owner...  business\n",
       "3  High fuel prices hit BA's profits\\n\\nBritish A...  business\n",
       "4  Pernod takeover talk lifts Domecq\\n\\nShares in...  business"
      ]
     },
     "execution_count": 4,
     "metadata": {},
     "output_type": "execute_result"
    }
   ],
   "source": [
    "df.head()"
   ]
  },
  {
   "cell_type": "code",
   "execution_count": 5,
   "id": "47ef017a-734f-420f-a55f-801a6d1d8fff",
   "metadata": {},
   "outputs": [
    {
     "data": {
      "text/plain": [
       "{'business', 'entertainment', 'politics', 'sport', 'tech'}"
      ]
     },
     "execution_count": 5,
     "metadata": {},
     "output_type": "execute_result"
    }
   ],
   "source": [
    "labels = set(df['labels'])\n",
    "labels"
   ]
  },
  {
   "cell_type": "code",
   "execution_count": 6,
   "id": "027fa5a3-9851-4598-bd23-10387fc31425",
   "metadata": {},
   "outputs": [],
   "source": [
    "label = 'business'"
   ]
  },
  {
   "cell_type": "code",
   "execution_count": 7,
   "id": "8e3072de-18e1-475e-8847-051af40b19d2",
   "metadata": {},
   "outputs": [
    {
     "data": {
      "text/plain": [
       "0    Ad sales boost Time Warner profit\\n\\nQuarterly...\n",
       "1    Dollar gains on Greenspan speech\\n\\nThe dollar...\n",
       "2    Yukos unit buyer faces loan claim\\n\\nThe owner...\n",
       "3    High fuel prices hit BA's profits\\n\\nBritish A...\n",
       "4    Pernod takeover talk lifts Domecq\\n\\nShares in...\n",
       "Name: text, dtype: object"
      ]
     },
     "execution_count": 7,
     "metadata": {},
     "output_type": "execute_result"
    }
   ],
   "source": [
    "texts = df[df['labels'] == label]['text']\n",
    "texts.head()"
   ]
  },
  {
   "cell_type": "code",
   "execution_count": 8,
   "id": "f98bb0a8-ee77-4c0a-9c1c-09daaa25fb02",
   "metadata": {},
   "outputs": [],
   "source": [
    "np.random.seed(1234)"
   ]
  },
  {
   "cell_type": "code",
   "execution_count": 10,
   "id": "fb702cb5-4a46-4cd3-8ac7-c605196679c3",
   "metadata": {},
   "outputs": [],
   "source": [
    "i = np.random.choice(texts.shape[0])\n",
    "doc = texts.iloc[i]"
   ]
  },
  {
   "cell_type": "code",
   "execution_count": 11,
   "id": "ec45fc04-0d55-479b-88de-2f3784275a6a",
   "metadata": {},
   "outputs": [
    {
     "name": "stdout",
     "output_type": "stream",
     "text": [
      "MG Rover China tie-up 'delayed'\n",
      "\n",
      "MG Rover's proposed tie-up with\n",
      "China's top carmaker has been delayed due to concerns by Chinese\n",
      "regulators, according to the Financial Times.\n",
      "\n",
      "The paper said Chinese\n",
      "officials had been irritated by Rover's disclosure of its talks with\n",
      "Shanghai Automotive Industry Corp in October.  The proposed deal was\n",
      "seen as crucial to safeguarding the future of Rover's Longbridge plant\n",
      "in the West Midlands.  However, there are growing fears that the deal\n",
      "could result in job losses.  The Observer reported on Sunday that\n",
      "nearly half the workforce at Longbridge could be under threat if the\n",
      "deal goes ahead.\n",
      "\n",
      "Shanghai Automotive's proposed £1bn investment in\n",
      "Rover is awaiting approval by its owner, the Shanghai city government\n",
      "and by the National Development and Reform Commission, which oversees\n",
      "foreign investment by Chinese firms.  According to the FT, the\n",
      "regulator has been annoyed by Rover's decision to talk publicly about\n",
      "the deal and the intense speculation which has ensued about what it\n",
      "will mean for Rover's future.  As a result, hopes that approval of the\n",
      "deal may be fast-tracked have disappeared, the paper said.  There has\n",
      "been continued speculation about the viability of Rover's Longbridge\n",
      "plant because of falling sales and unfashionable models.\n",
      "\n",
      "According to\n",
      "the Observer, 3,000 jobs - out of a total workforce of 6,500 - could\n",
      "be lost if the deal goes ahead.  The paper said that Chinese officials\n",
      "believe cutbacks will be required to keep the MG Rover's costs in line\n",
      "with revenues.  It also said that the production of new models through\n",
      "the joint venture would take at least eighteen months.  Neither Rover\n",
      "nor Shanghai Automotive commented on the reports.\n"
     ]
    }
   ],
   "source": [
    "print(textwrap.fill(doc, replace_whitespace=False, fix_sentence_endings=True))"
   ]
  },
  {
   "cell_type": "code",
   "execution_count": 12,
   "id": "07a14e92-5786-4869-8e6c-2154bea50f3a",
   "metadata": {},
   "outputs": [
    {
     "name": "stderr",
     "output_type": "stream",
     "text": [
      "No model was supplied, defaulted to distilbert/distilroberta-base and revision ec58a5b (https://huggingface.co/distilbert/distilroberta-base).\n",
      "Using a pipeline without specifying a model name and revision in production is not recommended.\n",
      "Some weights of the model checkpoint at distilbert/distilroberta-base were not used when initializing RobertaForMaskedLM: ['roberta.pooler.dense.bias', 'roberta.pooler.dense.weight']\n",
      "- This IS expected if you are initializing RobertaForMaskedLM from the checkpoint of a model trained on another task or with another architecture (e.g. initializing a BertForSequenceClassification model from a BertForPreTraining model).\n",
      "- This IS NOT expected if you are initializing RobertaForMaskedLM from the checkpoint of a model that you expect to be exactly identical (initializing a BertForSequenceClassification model from a BertForSequenceClassification model).\n"
     ]
    }
   ],
   "source": [
    "mlm = pipeline('fill-mask')"
   ]
  },
  {
   "cell_type": "code",
   "execution_count": 14,
   "id": "90b0f0b5-7b13-4718-b103-685b4f86d3a5",
   "metadata": {},
   "outputs": [
    {
     "data": {
      "text/plain": [
       "[{'score': 0.025343606248497963,\n",
       "  'token': 11125,\n",
       "  'token_str': ' preview',\n",
       "  'sequence': 'MG Rover China tie-up preview'},\n",
       " {'score': 0.020519552752375603,\n",
       "  'token': 5586,\n",
       "  'token_str': ' highlights',\n",
       "  'sequence': 'MG Rover China tie-up highlights'},\n",
       " {'score': 0.018245385959744453,\n",
       "  'token': 35,\n",
       "  'token_str': ':',\n",
       "  'sequence': 'MG Rover China tie-up:'},\n",
       " {'score': 0.012974033132195473,\n",
       "  'token': 340,\n",
       "  'token_str': ' news',\n",
       "  'sequence': 'MG Rover China tie-up news'},\n",
       " {'score': 0.012175057083368301,\n",
       "  'token': 6064,\n",
       "  'token_str': ' clash',\n",
       "  'sequence': 'MG Rover China tie-up clash'}]"
      ]
     },
     "execution_count": 14,
     "metadata": {},
     "output_type": "execute_result"
    }
   ],
   "source": [
    "mlm('MG Rover China tie-up <mask>')"
   ]
  }
 ],
 "metadata": {
  "kernelspec": {
   "display_name": "Python 3 (ipykernel)",
   "language": "python",
   "name": "python3"
  },
  "language_info": {
   "codemirror_mode": {
    "name": "ipython",
    "version": 3
   },
   "file_extension": ".py",
   "mimetype": "text/x-python",
   "name": "python",
   "nbconvert_exporter": "python",
   "pygments_lexer": "ipython3",
   "version": "3.10.12"
  }
 },
 "nbformat": 4,
 "nbformat_minor": 5
}
